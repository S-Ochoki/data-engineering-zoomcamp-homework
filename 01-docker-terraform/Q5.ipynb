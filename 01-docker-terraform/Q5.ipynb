{
 "cells": [
  {
   "cell_type": "markdown",
   "metadata": {},
   "source": [
    "### Question 5. Three biggest pickup zones\n",
    "Which were the top pickup locations with over 13,000 in total_amount (across all trips) for 2019-10-18?\n",
    "\n",
    "Consider only lpep_pickup_datetime when filtering by date."
   ]
  },
  {
   "cell_type": "code",
   "execution_count": 1,
   "metadata": {},
   "outputs": [],
   "source": [
    "from sqlalchemy import create_engine\n",
    "import pandas as pd"
   ]
  },
  {
   "cell_type": "code",
   "execution_count": 2,
   "metadata": {},
   "outputs": [],
   "source": [
    "DB_USER = \"postgres\"\n",
    "DB_PASSWORD = \"postgres\"\n",
    "DB_HOST = \"localhost\"\n",
    "DB_PORT = \"5433\"\n",
    "DB_NAME = \"ny_taxi\"\n",
    "\n",
    "engine = create_engine(f\"postgresql://{DB_USER}:{DB_PASSWORD}@{DB_HOST}:{DB_PORT}/{DB_NAME}\")"
   ]
  },
  {
   "cell_type": "code",
   "execution_count": 3,
   "metadata": {},
   "outputs": [
    {
     "name": "stdout",
     "output_type": "stream",
     "text": [
      "   LocationID                 Zone  total_revenue  trip_count\n",
      "0          74    East Harlem North       18686.68        1236\n",
      "1          75    East Harlem South       16797.26        1101\n",
      "2         166  Morningside Heights       13029.79         764\n"
     ]
    }
   ],
   "source": [
    "query = '''\n",
    "    WITH \n",
    "    locations AS (\n",
    "        SELECT \n",
    "            \"PULocationID\", \n",
    "            SUM(total_amount) AS total_revenue, \n",
    "            COUNT(*) AS trip_count\n",
    "        FROM green_taxi_data\n",
    "        WHERE DATE(lpep_pickup_datetime) = '2019-10-18'\n",
    "        GROUP BY \"PULocationID\"\n",
    "        HAVING SUM(total_amount) > 13000\n",
    "        ORDER BY total_revenue DESC\n",
    "    )\n",
    "\n",
    "    SELECT \"LocationID\", \"Zone\", l.total_revenue, l.trip_count FROM public.taxi_zone_lookup\n",
    "    INNER JOIN locations l ON l.\"PULocationID\" = public.taxi_zone_lookup.\"LocationID\";\n",
    "'''\n",
    "\n",
    "# Execute the query and fetch results\n",
    "try:\n",
    "    with engine.connect() as connection:\n",
    "        result = pd.read_sql(query, connection)\n",
    "        print(result)\n",
    "except Exception as e:\n",
    "    print(f\"Error: {e}\")"
   ]
  },
  {
   "cell_type": "code",
   "execution_count": null,
   "metadata": {},
   "outputs": [],
   "source": []
  }
 ],
 "metadata": {
  "kernelspec": {
   "display_name": ".venv",
   "language": "python",
   "name": "python3"
  },
  "language_info": {
   "codemirror_mode": {
    "name": "ipython",
    "version": 3
   },
   "file_extension": ".py",
   "mimetype": "text/x-python",
   "name": "python",
   "nbconvert_exporter": "python",
   "pygments_lexer": "ipython3",
   "version": "3.12.8"
  }
 },
 "nbformat": 4,
 "nbformat_minor": 2
}
