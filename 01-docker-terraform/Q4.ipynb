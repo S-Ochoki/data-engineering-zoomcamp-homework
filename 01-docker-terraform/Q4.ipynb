{
 "cells": [
  {
   "cell_type": "markdown",
   "metadata": {},
   "source": [
    "### Question 4. Longest trip for each day\n",
    "Which was the pick up day with the longest trip distance? Use the pick up time for your calculations.\n",
    "\n",
    "Tip: For every day, we only care about one single trip with the longest distance."
   ]
  },
  {
   "cell_type": "code",
   "execution_count": 3,
   "metadata": {},
   "outputs": [],
   "source": [
    "from sqlalchemy import create_engine\n",
    "import pandas as pd"
   ]
  },
  {
   "cell_type": "code",
   "execution_count": 2,
   "metadata": {},
   "outputs": [],
   "source": [
    "DB_USER = \"postgres\"\n",
    "DB_PASSWORD = \"postgres\"\n",
    "DB_HOST = \"localhost\"\n",
    "DB_PORT = \"5433\"\n",
    "DB_NAME = \"ny_taxi\"\n",
    "\n",
    "engine = create_engine(f\"postgresql://{DB_USER}:{DB_PASSWORD}@{DB_HOST}:{DB_PORT}/{DB_NAME}\")"
   ]
  },
  {
   "cell_type": "code",
   "execution_count": 5,
   "metadata": {},
   "outputs": [
    {
     "name": "stdout",
     "output_type": "stream",
     "text": [
      "         date\n",
      "0  2019-10-31\n"
     ]
    }
   ],
   "source": [
    "query = \"\"\"\n",
    "    SELECT DATE(lpep_pickup_datetime)\n",
    "    FROM public.green_taxi_data\n",
    "    WHERE trip_distance = (SELECT MAX(trip_distance) FROM public.green_taxi_data);\n",
    "\"\"\"\n",
    "\n",
    "# Execute the query and fetch results\n",
    "try:\n",
    "    with engine.connect() as connection:\n",
    "        result = pd.read_sql(query, connection)\n",
    "        print(result)\n",
    "except Exception as e:\n",
    "    print(f\"Error: {e}\")"
   ]
  },
  {
   "cell_type": "code",
   "execution_count": null,
   "metadata": {},
   "outputs": [],
   "source": []
  }
 ],
 "metadata": {
  "kernelspec": {
   "display_name": ".venv",
   "language": "python",
   "name": "python3"
  },
  "language_info": {
   "codemirror_mode": {
    "name": "ipython",
    "version": 3
   },
   "file_extension": ".py",
   "mimetype": "text/x-python",
   "name": "python",
   "nbconvert_exporter": "python",
   "pygments_lexer": "ipython3",
   "version": "3.12.8"
  }
 },
 "nbformat": 4,
 "nbformat_minor": 2
}
