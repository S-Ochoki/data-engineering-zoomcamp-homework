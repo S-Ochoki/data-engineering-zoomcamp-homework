{
 "cells": [
  {
   "cell_type": "markdown",
   "metadata": {},
   "source": [
    "### Question 3. Trip Segmentation Count\n",
    "During the period of October 1st 2019 (inclusive) and November 1st 2019 (exclusive), how many trips, respectively, happened:\n",
    "\n",
    "- Up to 1 mile\n",
    "- In between 1 (exclusive) and 3 miles (inclusive),\n",
    "- In between 3 (exclusive) and 7 miles (inclusive),\n",
    "- In between 7 (exclusive) and 10 miles (inclusive),\n",
    "- Over 10 miles"
   ]
  },
  {
   "cell_type": "code",
   "execution_count": 2,
   "metadata": {},
   "outputs": [],
   "source": [
    "from sqlalchemy import create_engine\n",
    "import pandas as pd\n"
   ]
  },
  {
   "cell_type": "code",
   "execution_count": 3,
   "metadata": {},
   "outputs": [],
   "source": [
    "# Connection details\n",
    "DB_USER = \"postgres\"\n",
    "DB_PASSWORD = \"postgres\"\n",
    "DB_HOST = \"localhost\"\n",
    "DB_PORT = \"5433\"\n",
    "DB_NAME = \"ny_taxi\"\n",
    "\n",
    "engine = create_engine(f\"postgresql://{DB_USER}:{DB_PASSWORD}@{DB_HOST}:{DB_PORT}/{DB_NAME}\")"
   ]
  },
  {
   "cell_type": "code",
   "execution_count": 4,
   "metadata": {},
   "outputs": [
    {
     "name": "stdout",
     "output_type": "stream",
     "text": [
      "   up_to_1_mile  between_1_and_3_miles  between_3_and_7_miles  \\\n",
      "0        104830                 198995                 109642   \n",
      "\n",
      "   between_7_and_10_miles  over_10_miles  \n",
      "0                   27686          35201  \n"
     ]
    }
   ],
   "source": [
    "# SQL Query to count trips in the given date range\n",
    "query = \"\"\"\n",
    "    SELECT \n",
    "        SUM(CASE WHEN trip_distance <= 1 THEN 1 ELSE 0 END) AS up_to_1_mile, \n",
    "        SUM(CASE WHEN trip_distance > 1 AND trip_distance <= 3 THEN 1 ELSE 0 END) AS between_1_and_3_miles,\n",
    "        SUM(CASE WHEN trip_distance > 3 AND trip_distance <= 7 THEN 1 ELSE 0 END) AS between_3_and_7_miles,\n",
    "        SUM(CASE WHEN trip_distance > 7 AND trip_distance <= 10 THEN 1 ELSE 0 END) AS between_7_and_10_miles,\n",
    "        SUM(CASE WHEN trip_distance > 10 THEN 1 ELSE 0 END) AS over_10_miles\n",
    "    FROM green_taxi_data\n",
    "    WHERE lpep_pickup_datetime >= '2019-10-01 00:00:00' \n",
    "    AND lpep_pickup_datetime < '2019-11-01 00:00:00';\n",
    "\"\"\"\n",
    "\n",
    "# Execute the query and fetch results\n",
    "try:\n",
    "    with engine.connect() as connection:\n",
    "        result = pd.read_sql(query, connection)\n",
    "        print(result)\n",
    "except Exception as e:\n",
    "    print(f\"Error: {e}\")"
   ]
  },
  {
   "cell_type": "code",
   "execution_count": null,
   "metadata": {},
   "outputs": [],
   "source": []
  }
 ],
 "metadata": {
  "kernelspec": {
   "display_name": ".venv",
   "language": "python",
   "name": "python3"
  },
  "language_info": {
   "codemirror_mode": {
    "name": "ipython",
    "version": 3
   },
   "file_extension": ".py",
   "mimetype": "text/x-python",
   "name": "python",
   "nbconvert_exporter": "python",
   "pygments_lexer": "ipython3",
   "version": "3.12.8"
  }
 },
 "nbformat": 4,
 "nbformat_minor": 2
}
