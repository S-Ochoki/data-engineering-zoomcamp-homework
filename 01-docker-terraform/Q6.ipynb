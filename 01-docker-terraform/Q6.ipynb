{
 "cells": [
  {
   "cell_type": "markdown",
   "metadata": {},
   "source": [
    "### Question 6. Largest tip\n",
    "For the passengers picked up in October 2019 in the zone named \"East Harlem North\" which was the drop off zone that had the largest tip?\n",
    "\n",
    "Note: it's tip , not trip\n",
    "\n",
    "We need the name of the zone, not the ID."
   ]
  },
  {
   "cell_type": "code",
   "execution_count": 1,
   "metadata": {},
   "outputs": [],
   "source": [
    "from sqlalchemy import create_engine\n",
    "import pandas as pd"
   ]
  },
  {
   "cell_type": "code",
   "execution_count": 2,
   "metadata": {},
   "outputs": [],
   "source": [
    "DB_USER = \"postgres\"\n",
    "DB_PASSWORD = \"postgres\"\n",
    "DB_HOST = \"localhost\"\n",
    "DB_PORT = \"5433\"\n",
    "DB_NAME = \"ny_taxi\"\n",
    "\n",
    "engine = create_engine(f\"postgresql://{DB_USER}:{DB_PASSWORD}@{DB_HOST}:{DB_PORT}/{DB_NAME}\")"
   ]
  },
  {
   "cell_type": "code",
   "execution_count": 3,
   "metadata": {},
   "outputs": [
    {
     "name": "stdout",
     "output_type": "stream",
     "text": [
      "  dropoff_zone  tip_amount\n",
      "0  JFK Airport        87.3\n"
     ]
    }
   ],
   "source": [
    "query = '''\n",
    "    WITH \n",
    "    pickup_zone AS (\n",
    "        SELECT \"LocationID\"\n",
    "        FROM public.taxi_zone_lookup\n",
    "        WHERE \"Zone\" = 'East Harlem North'\n",
    "    )\n",
    "\n",
    "    SELECT \n",
    "        tz_do.\"Zone\" AS dropoff_zone, \n",
    "        gt.tip_amount\n",
    "    FROM green_taxi_data gt\n",
    "    JOIN pickup_zone pz ON gt.\"PULocationID\" = pz.\"LocationID\"\n",
    "    JOIN public.taxi_zone_lookup tz_do ON gt.\"DOLocationID\" = tz_do.\"LocationID\"\n",
    "    WHERE gt.lpep_pickup_datetime >= '2019-10-01' \n",
    "    AND gt.lpep_pickup_datetime < '2019-11-01'\n",
    "    ORDER BY gt.tip_amount DESC\n",
    "    LIMIT 1;\n",
    "'''\n",
    "\n",
    "# Execute the query and fetch results\n",
    "try:\n",
    "    with engine.connect() as connection:\n",
    "        result = pd.read_sql(query, connection)\n",
    "        print(result)\n",
    "except Exception as e:\n",
    "    print(f\"Error: {e}\")"
   ]
  },
  {
   "cell_type": "code",
   "execution_count": null,
   "metadata": {},
   "outputs": [],
   "source": []
  }
 ],
 "metadata": {
  "kernelspec": {
   "display_name": ".venv",
   "language": "python",
   "name": "python3"
  },
  "language_info": {
   "codemirror_mode": {
    "name": "ipython",
    "version": 3
   },
   "file_extension": ".py",
   "mimetype": "text/x-python",
   "name": "python",
   "nbconvert_exporter": "python",
   "pygments_lexer": "ipython3",
   "version": "3.12.8"
  }
 },
 "nbformat": 4,
 "nbformat_minor": 2
}
